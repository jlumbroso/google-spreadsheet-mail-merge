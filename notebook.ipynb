{
 "cells": [
  {
   "cell_type": "code",
   "execution_count": 79,
   "metadata": {},
   "outputs": [],
   "source": [
    "import os\n",
    "\n",
    "# THIRD PARTY PACKAGES\n",
    "import gspread   # To access Google Sheets (https://gspread.readthedocs.io/en/latest/)\n",
    "import jinja2    # To render HTML templates (https://jinja.palletsprojects.com/en/2.11.x/)\n",
    "import html2text # To convert HTML to text (https://github.com/Alir3z4/html2text/)\n",
    "import sendgrid  # To send emails (https://sendgrid.com/docs/for-developers/sending-email/v3-python-code-example/)"
   ]
  },
  {
   "cell_type": "code",
   "execution_count": 80,
   "metadata": {},
   "outputs": [],
   "source": [
    "# api key (must be configured in Codespaces encrypted secrets)\n",
    "SENDGRID_API_KEY = os.environ.get(\"SENDGRID_API_KEY\")\n",
    "\n",
    "# spreadsheet and worksheet to use\n",
    "SSHEET_KEY = \"11aR5WHloNn4N3Ns960reTCbxB_QUHeOU7RSqJzUyRbY\"\n",
    "SSHEET_WORKSHEET_ID = 1\n",
    "\n",
    "# email information\n",
    "EMAIL_FROM_SENDER = \"Jérémie Lumbroso <lumbroso@princeton.edu>\"\n",
    "EMAIL_DEFAULT_SUBJECT = \"Please {first_name}: Could you fill this form out by Wed?\""
   ]
  },
  {
   "cell_type": "code",
   "execution_count": 82,
   "metadata": {},
   "outputs": [],
   "source": [
    "# sanity check\n",
    "if SENDGRID_API_KEY is None:\n",
    "    raise ValueError(\n",
    "        \"SENDGRID_API_KEY is not properly configured; \"\n",
    "        \"if you are running this in a Codespace, please configure it in the encrypted secrets.\"\n",
    "    )"
   ]
  },
  {
   "cell_type": "code",
   "execution_count": 83,
   "metadata": {},
   "outputs": [
    {
     "name": "stdout",
     "output_type": "stream",
     "text": [
      "Sheet title: Main List of platforms from Gleidson/Media Cloud/iOS+Android Apps\n",
      "Worksheets:\n",
      "0 Main\n",
      "1 email_list_final\n",
      "2 email_list\n",
      "3 missing_ones_Owen\n",
      "4 dictionary completed_restaurant_extraction\n",
      "5 temp\n",
      "6 Final\n",
      "7 descriptive_statistics_scraping\n"
     ]
    }
   ],
   "source": [
    "# creating client using our API key (requires either local file,\n",
    "# or GitHub secret configuration)\n",
    "\n",
    "gc = gspread.service_account(filename=\"service_account.json\")\n",
    "\n",
    "# retrieving spreadsheet\n",
    "\n",
    "ssheet = gc.open_by_key(SSHEET_KEY)\n",
    "if ssheet is None:\n",
    "    raise Exception(\"Spreadsheet not found\")\n",
    "\n",
    "# printing spreadsheet info\n",
    "\n",
    "print(\"Sheet title:\", ssheet.title)\n",
    "print(\"Worksheets:\")\n",
    "for i, wks in enumerate(ssheet.worksheets()):\n",
    "    print(i, wks.title)\n",
    "\n",
    "# retrieving worksheet\n",
    "\n",
    "ws = ssheet.get_worksheet(SSHEET_WORKSHEET_ID)"
   ]
  },
  {
   "cell_type": "code",
   "execution_count": 84,
   "metadata": {},
   "outputs": [],
   "source": [
    "# get all rows\n",
    "rows = ws.get_all_values()\n",
    "\n",
    "# separate header\n",
    "header = rows[0]\n",
    "rows = rows[1:]\n",
    "\n",
    "# zip records\n",
    "records = [dict(zip(header, row)) for row in rows]"
   ]
  },
  {
   "cell_type": "code",
   "execution_count": 85,
   "metadata": {},
   "outputs": [],
   "source": [
    "# See here for a primer on Jinja2:\n",
    "# https://realpython.com/primer-on-jinja-templating/#render-your-first-jinja-template\n",
    "\n",
    "environment = jinja2.Environment(loader=jinja2.FileSystemLoader(\"templates/\"))\n",
    "\n",
    "def render_template(template_file_name, **variables):\n",
    "    template = environment.get_template(template_file_name)\n",
    "    content = template.render(\n",
    "        **variables\n",
    "    )\n",
    "    return content"
   ]
  },
  {
   "cell_type": "code",
   "execution_count": 89,
   "metadata": {},
   "outputs": [],
   "source": [
    "# Records are of his format:\n",
    "#\n",
    "#  {'platform name': '501 Delivery',\n",
    "#   'contact person': 'Marilyn Choke Smith',\n",
    "#   'contact person email': '501deliveryservices@gmail.com',\n",
    "#   'RMDA?': 'yes'},\n",
    "#  {'platform name': '50 Grub 4 U',\n",
    "#   'contact person': '',\n",
    "#   'contact person email': '50grub4u@gmail.com',\n",
    "#   'RMDA?': 'yes'},\n",
    "#\n",
    "# - some may not have a contact person\n",
    "# - some may not have an email\n",
    "# - some may have 'yes' or 'no in \"RDMA?\"\n",
    "\n",
    "def contact_record(\n",
    "    record,\n",
    "    subject=None,\n",
    "):\n",
    "\n",
    "    # extract fields\n",
    "    contact_person = record.get(\"contact person\", \"\").strip()\n",
    "    contact_email = record.get(\"contact person email\", \"\").strip()\n",
    "\n",
    "    # exit if no email\n",
    "    if contact_email == \"\":\n",
    "        return\n",
    "\n",
    "    # determine first name\n",
    "    first_name = \"\"\n",
    "    if contact_person != \"\":\n",
    "        first_name = record.get(\"contact person\").split()[0]\n",
    "    \n",
    "    # to object\n",
    "    to_obj = contact_email\n",
    "    if contact_person != \"\":\n",
    "        to_obj = (contact_email, contact_person)\n",
    "\n",
    "    # pick the template as a function of the \"RDMA?\" field\n",
    "    is_rmda = record.get(\"RMDA?\", \"\").strip().lower() == \"yes\"\n",
    "    template_file_name = \"non_rmda_email.html\"\n",
    "    if is_rmda:\n",
    "        template_file_name = \"rmda_email.html\"\n",
    "\n",
    "    # render template and compute text version\n",
    "    html_body = render_template(\n",
    "        template_file_name=template_file_name,\n",
    "        first_name=first_name,\n",
    "    )\n",
    "    txt_body = html2text.HTML2Text().handle(html_body)\n",
    "\n",
    "    # render subject\n",
    "    email_subject = subject or EMAIL_DEFAULT_SUBJECT.format(first_name=first_name)\n",
    "\n",
    "    # create SendGrid message\n",
    "    message = sendgrid.helpers.mail.Mail(\n",
    "        from_email=EMAIL_FROM_SENDER,\n",
    "        to_emails=[to_obj],\n",
    "        subject=email_subject,\n",
    "        html_content=html_body,\n",
    "        plain_text_content=txt_body,\n",
    "    )\n",
    "\n",
    "    #message.cc = \"Some Person <some@email.com>\"\n",
    "    #message.reply_to = \"Some Person <some@email.com>\"\n",
    "\n",
    "    # remove tracking data to make email seem less spammy\n",
    "    tracking_settings = sendgrid.helpers.mail.TrackingSettings()\n",
    "    tracking_settings.click_tracking = sendgrid.helpers.mail.ClickTracking(\n",
    "        enable=False,\n",
    "        enable_text=False\n",
    "    )\n",
    "    tracking_settings.open_tracking = sendgrid.helpers.mail.OpenTracking(\n",
    "        enable=False\n",
    "    )\n",
    "    message.tracking_settings = tracking_settings\n",
    "\n",
    "    # Add unsubsubscribe header to seem less spammy\n",
    "    message.add_header(\n",
    "        sendgrid.helpers.mail.Header(\"List-Unsubscribe\", EMAIL_FROM_SENDER)\n",
    "    )\n",
    "    \n",
    "    # Create the SendGrid client and send the email\n",
    "    sg = sendgrid.SendGridAPIClient(SENDGRID_API_KEY)\n",
    "    response = sg.send(message)\n",
    "\n",
    "    # Print log\n",
    "    #print(message)\n",
    "    #print(response.status_code, response.body, response.headers)\n",
    "\n",
    "    return response.status_code == 202"
   ]
  },
  {
   "cell_type": "code",
   "execution_count": 90,
   "metadata": {},
   "outputs": [
    {
     "data": {
      "text/plain": [
       "True"
      ]
     },
     "execution_count": 90,
     "metadata": {},
     "output_type": "execute_result"
    }
   ],
   "source": [
    "# just an example\n",
    "test_record = {\n",
    "   'platform name': '501 Delivery',\n",
    "   'contact person': 'John Smith',\n",
    "   'contact person email': 'lumbroso@cs.princeton.edu',\n",
    "   'RMDA?': 'yes'\n",
    "}\n",
    "contact_record(test_record)"
   ]
  },
  {
   "cell_type": "code",
   "execution_count": null,
   "metadata": {},
   "outputs": [],
   "source": []
  }
 ],
 "metadata": {
  "kernelspec": {
   "display_name": "google-spreadsheet-mail-merge-K_FjgGp6",
   "language": "python",
   "name": "python3"
  },
  "language_info": {
   "codemirror_mode": {
    "name": "ipython",
    "version": 3
   },
   "file_extension": ".py",
   "mimetype": "text/x-python",
   "name": "python",
   "nbconvert_exporter": "python",
   "pygments_lexer": "ipython3",
   "version": "3.10.5"
  },
  "orig_nbformat": 4,
  "vscode": {
   "interpreter": {
    "hash": "5b8a6065fe61c5b430e31edd76413c8c75b4f3ea31b20cd51af04d1efe163ad8"
   }
  }
 },
 "nbformat": 4,
 "nbformat_minor": 2
}
