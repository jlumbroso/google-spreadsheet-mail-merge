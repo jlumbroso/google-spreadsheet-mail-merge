{
 "cells": [
  {
   "attachments": {},
   "cell_type": "markdown",
   "metadata": {},
   "source": [
    "# Google Spreadsheet Mail Merge\n",
    "Original template from [`https://github.com/jlumbroso/google-spreadsheet-mail-merge`](https://github.com/jlumbroso/google-spreadsheet-mail-merge)."
   ]
  },
  {
   "attachments": {},
   "cell_type": "markdown",
   "metadata": {},
   "source": [
    "## 1. 📝 TODO: Customize this part of the notebook\n",
    "These constants define:\n",
    "- the spreadsheet ID (long alphanumerical identifier) and worksheet index (0-based);\n",
    "- the `From:` name and email you would like to use as a sender;\n",
    "- the default subject line for the emails, if this isn't encoded as a `<title></title>` tag in the templates;\n",
    "- the folder in which templates are located (shouldn't change!)."
   ]
  },
  {
   "cell_type": "code",
   "execution_count": 1,
   "metadata": {},
   "outputs": [],
   "source": [
    "# spreadsheet and worksheet to use\n",
    "SSHEET_KEY = \"1ASvG2maFz0Jw9qk44PktzTWjS6Grxdvj_S4NiyIxCTE\"\n",
    "SSHEET_WORKSHEET_ID = 0\n",
    "\n",
    "# email information\n",
    "EMAIL_FROM_SENDER = \"Domenica Sviola <desviola@princeton.edu>\"\n",
    "EMAIL_DEFAULT_SUBJECT = \"Please {first_name}: Could you fill this form out by Wed?\"\n",
    "\n",
    "# email template folder\n",
    "EMAIL_TEMPLATE_FOLDER = \"./templates\""
   ]
  },
  {
   "attachments": {},
   "cell_type": "markdown",
   "metadata": {},
   "source": [
    "## 2. 🤖 Boilerplate code and helper methods\n",
    "This section contains the code that is used to connect to the Google Spreadsheet API and send emails through SendGrid. There shouldn't be anything to change here.\n",
    "\n",
    "Go directly to the third section."
   ]
  },
  {
   "cell_type": "code",
   "execution_count": 2,
   "metadata": {},
   "outputs": [],
   "source": [
    "import json\n",
    "import os\n",
    "import re\n",
    "import typing\n",
    "\n",
    "# THIRD PARTY PACKAGES\n",
    "import dotenv    # To load environment variables from .env file (https://github.com/theskumar/python-dotenv)\n",
    "import gspread   # To access Google Sheets (https://gspread.readthedocs.io/en/latest/)\n",
    "import html2text # To convert HTML to text (https://github.com/Alir3z4/html2text/)\n",
    "import jinja2    # To render HTML templates (https://jinja.palletsprojects.com/en/2.11.x/)\n",
    "import sendgrid  # To send emails (https://sendgrid.com/docs/for-developers/sending-email/v3-python-code-example/)\n",
    "import tqdm      # To display progress bars (https://github.com/tqdm/tqdm)"
   ]
  },
  {
   "cell_type": "code",
   "execution_count": 3,
   "metadata": {},
   "outputs": [],
   "source": [
    "# load any .env files around\n",
    "dotenv.load_dotenv()\n",
    "\n",
    "# api key (must be configured in Codespaces encrypted secrets)\n",
    "SENDGRID_API_KEY = os.environ.get(\"SENDGRID_API_KEY\")"
   ]
  },
  {
   "cell_type": "code",
   "execution_count": 4,
   "metadata": {},
   "outputs": [],
   "source": [
    "# sanity check\n",
    "if SENDGRID_API_KEY is None:\n",
    "    raise ValueError(\n",
    "        \"SENDGRID_API_KEY is not properly configured; \"\n",
    "        \"if you are running this in a Codespace, please configure it in the encrypted secrets.\"\n",
    "    )"
   ]
  },
  {
   "cell_type": "code",
   "execution_count": 5,
   "metadata": {},
   "outputs": [
    {
     "name": "stdout",
     "output_type": "stream",
     "text": [
      "Sheet title: Google Spreadsheet Mail Merge — example\n",
      "Worksheets:\n",
      "-> 0 emails    <== selected\n"
     ]
    }
   ],
   "source": [
    "# creating client using our API key (requires either local file,\n",
    "# or GitHub secret configuration)\n",
    "\n",
    "gc = gspread.service_account(filename=\"service_account.json\")\n",
    "\n",
    "# retrieving spreadsheet\n",
    "\n",
    "try:\n",
    "    \n",
    "    ssheet = gc.open_by_key(SSHEET_KEY)\n",
    "\n",
    "except gspread.exceptions.APIError as exc:\n",
    "    if exc.response.status_code == 404:\n",
    "        raise Exception(\"Spreadsheet not found\") from exc\n",
    "\n",
    "    elif exc.response.status_code == 403:\n",
    "        raise Exception(\n",
    "            \"Spreadsheet not accessible: \"\n",
    "            \"Either make the spreadsheet publically readable, or add \"\n",
    "            \"the email from the service account as a user with read-access.\"\n",
    "        ) from exc\n",
    "    else:\n",
    "        raise\n",
    "\n",
    "if ssheet is None:\n",
    "    raise Exception(\"Spreadsheet not found\")\n",
    "\n",
    "# printing spreadsheet info\n",
    "\n",
    "print(\"Sheet title:\", ssheet.title)\n",
    "print(\"Worksheets:\")\n",
    "for i, wks in enumerate(ssheet.worksheets()):\n",
    "    print(\"->\", i, wks.title, \"   <== selected\" if i == SSHEET_WORKSHEET_ID else \"\")"
   ]
  },
  {
   "cell_type": "code",
   "execution_count": 6,
   "metadata": {},
   "outputs": [
    {
     "name": "stdout",
     "output_type": "stream",
     "text": [
      "Sample record:\n",
      "{\n",
      "  \"name\": \"Salima El-Amin\",\n",
      "  \"university\": \"Harvard University\",\n",
      "  \"email\": \"google-spreadsheet-mail-merge-test@mailsac.com\",\n",
      "  \"group\": \"4\"\n",
      "}\n"
     ]
    }
   ],
   "source": [
    "# retrieving specific worksheet\n",
    "ws = ssheet.get_worksheet(SSHEET_WORKSHEET_ID)\n",
    "\n",
    "# get all rows\n",
    "rows = ws.get_all_values()\n",
    "\n",
    "# separate header\n",
    "header = rows[0]\n",
    "rows = rows[1:]\n",
    "\n",
    "# zip records\n",
    "records = [dict(zip(header, row)) for row in rows]\n",
    "\n",
    "# print sample record\n",
    "print(\"Sample record:\")\n",
    "if len(records) > 0:\n",
    "    print(json.dumps(records[0], indent=2))\n",
    "else:\n",
    "    print(\"No records found\")"
   ]
  },
  {
   "cell_type": "code",
   "execution_count": 7,
   "metadata": {},
   "outputs": [],
   "source": [
    "# See here for a primer on Jinja2:\n",
    "# https://realpython.com/primer-on-jinja-templating/#render-your-first-jinja-template\n",
    "\n",
    "environment = jinja2.Environment(loader=jinja2.FileSystemLoader(EMAIL_TEMPLATE_FOLDER))\n",
    "\n",
    "def render_template(\n",
    "    template_file_name,\n",
    "    **variables\n",
    "):\n",
    "    template = environment.get_template(template_file_name)\n",
    "    content = template.render(\n",
    "        **variables\n",
    "    )\n",
    "    return content"
   ]
  },
  {
   "cell_type": "code",
   "execution_count": 8,
   "metadata": {},
   "outputs": [],
   "source": [
    "def extract_title_from_html(html: str) -> typing.Optional[str]:\n",
    "    \"\"\"\n",
    "    Extract title from an HTML document.\n",
    "\n",
    "    :param html: The HTML document\n",
    "    :type html: str\n",
    "\n",
    "    :return: A title, if one is found; `None` otherwise\n",
    "    :rtype: typing.Optional[str]\n",
    "    \"\"\"\n",
    "    match = re.search(r\"<title>([^<]*)</title>\", html)\n",
    "\n",
    "    # no match found: return empty string\n",
    "    if match is None:\n",
    "        return\n",
    "    \n",
    "    # match found: extract first group\n",
    "    raw_title = match.group(1)\n",
    "\n",
    "    # clean-up title\n",
    "    title = re.sub(r\"\\s+\", \" \", raw_title).strip()\n",
    "\n",
    "    # If empty string, just return None\n",
    "    if title == \"\":\n",
    "        return\n",
    "\n",
    "    return title"
   ]
  },
  {
   "cell_type": "code",
   "execution_count": 9,
   "metadata": {},
   "outputs": [],
   "source": [
    "def send_customized_email(\n",
    "    email: str,\n",
    "    template_file_name: str,\n",
    "    name: typing.Optional[str]=None,\n",
    "    subject: typing.Optional[str]=None,\n",
    "    variables: typing.Optional[dict]=None,\n",
    "    **kwargs\n",
    ") -> bool:\n",
    "    \"\"\"\n",
    "    Send a customized email.\n",
    "\n",
    "    :param email: Recipient email address\n",
    "    :type email: str\n",
    "    :param template_file_name: Jinja2 template filename to use to render the email body\n",
    "    :type template_file_name: str\n",
    "    :param name: Recipient full name\n",
    "    :type name: typing.Optional[str], optional\n",
    "    :param subject: Email subject, if not present as <title></title> in the HTML template\n",
    "    :type subject: typing.Optional[str], optional\n",
    "    :param variables: Additional variables to pass to the template\n",
    "    :type variables: typing.Optional[dict], optional\n",
    "    :raises ValueError: If no email address is provided\n",
    "    :return: `True` if the email was sent successfully, `False` otherwise\n",
    "    :rtype: bool\n",
    "    \"\"\"\n",
    "\n",
    "    # exit if no email\n",
    "    if email is None or email == \"\":\n",
    "        raise ValueError(\"No `email` address provided\")\n",
    "\n",
    "    # determine first name\n",
    "    first_name = \"\"\n",
    "    if name is not None and name != \"\":\n",
    "        first_name = name.split()[0]\n",
    "    \n",
    "    # to object\n",
    "    to_obj = email\n",
    "    if name != \"\":\n",
    "        to_obj = (email, name)\n",
    "    \n",
    "    # merge all arguments\n",
    "    template_arguments = {\n",
    "        \"name\": name,\n",
    "        \"first_name\": first_name,\n",
    "    }\n",
    "    template_arguments.update(kwargs)\n",
    "    if variables is not None:\n",
    "        template_arguments.update(variables)\n",
    "\n",
    "    # render template and compute text version\n",
    "    html_body = render_template(\n",
    "        template_file_name=template_file_name,\n",
    "        **template_arguments\n",
    "    )\n",
    "    txt_body = html2text.HTML2Text().handle(html_body)\n",
    "\n",
    "    # try to extract subject from HTML\n",
    "    extracted_subject = extract_title_from_html(html_body)\n",
    "\n",
    "    # render subject\n",
    "    template_arguments = template_arguments or dict()\n",
    "    email_subject = (\n",
    "        # provided as argument to function\n",
    "        (subject.format(**template_arguments) if subject is not None else None)\n",
    "        # extracted from HTML (template already rendered, so no format())\n",
    "        or extracted_subject\n",
    "        # default subject\n",
    "        or EMAIL_DEFAULT_SUBJECT.format(**template_arguments)\n",
    "    )\n",
    "\n",
    "    # create SendGrid message\n",
    "    message = sendgrid.helpers.mail.Mail(\n",
    "        from_email=EMAIL_FROM_SENDER,\n",
    "        to_emails=[to_obj],\n",
    "        subject=email_subject,\n",
    "        html_content=html_body,\n",
    "        plain_text_content=txt_body,\n",
    "    )\n",
    "\n",
    "    #message.cc = \"Some Person <some@email.com>\"\n",
    "    #message.reply_to = \"Some Person <some@email.com>\"\n",
    "\n",
    "    # remove tracking data to make email seem less spammy\n",
    "    tracking_settings = sendgrid.helpers.mail.TrackingSettings()\n",
    "    tracking_settings.click_tracking = sendgrid.helpers.mail.ClickTracking(\n",
    "        enable=False,\n",
    "        enable_text=False\n",
    "    )\n",
    "    tracking_settings.open_tracking = sendgrid.helpers.mail.OpenTracking(\n",
    "        enable=False\n",
    "    )\n",
    "    message.tracking_settings = tracking_settings\n",
    "\n",
    "    # Add unsubsubscribe header to seem less spammy\n",
    "    message.add_header(\n",
    "        sendgrid.helpers.mail.Header(\"List-Unsubscribe\", EMAIL_FROM_SENDER)\n",
    "    )\n",
    "    \n",
    "    # Create the SendGrid client and send the email\n",
    "    sg = sendgrid.SendGridAPIClient(SENDGRID_API_KEY)\n",
    "    response = sg.send(message)\n",
    "\n",
    "    # Print log\n",
    "    #print(message)\n",
    "    #print(response.status_code, response.body, response.headers)\n",
    "\n",
    "    return response.status_code == 202"
   ]
  },
  {
   "attachments": {},
   "cell_type": "markdown",
   "metadata": {},
   "source": [
    "## 3. 🪄 TODO: Actual logic of how to customize emails\n",
    "\n",
    "The function `send_customized_email_to_record()` should take a single record — a row of the spreadsheet — and make an appropriate call to `send_customized_email()`. In this example, we are using [our public example spreadsheet](https://docs.google.com/spreadsheets/d/1ASvG2maFz0Jw9qk44PktzTWjS6Grxdvj_S4NiyIxCTE/edit#gid=0), which contains four columns: `name`, `university`, `email`, and `group`.\n",
    "\n",
    "The `group` column is used to select the template, of the two example templates, as an example of conditional logic."
   ]
  },
  {
   "cell_type": "code",
   "execution_count": 10,
   "metadata": {},
   "outputs": [],
   "source": [
    "# customizing the above function to process a row from the Google Spreadsheet\n",
    "test_record = {\n",
    "   \"name\": \"Salima El-Amin\",\n",
    "   \"university\": \"Harvard University\",\n",
    "   \"email\": \"google-spreadsheet-mail-merge-test@mailsac.com\",\n",
    "   \"group\": \"4\"\n",
    "}\n",
    "\n",
    "def send_customized_email_to_record(record):\n",
    "   template_file_name = \"template_example1_commented.html\"\n",
    "   if record[\"group\"] in [\"1\", \"4\"]:\n",
    "       template_file_name = \"template_example2_instantiated.html\"\n",
    "\n",
    "   return send_customized_email(\n",
    "      email=record[\"email\"],\n",
    "      template_file_name=template_file_name,\n",
    "      name=record[\"name\"],\n",
    "      variables=record,\n",
    "   )"
   ]
  },
  {
   "attachments": {},
   "cell_type": "markdown",
   "metadata": {},
   "source": [
    "## 4. 🚀 Send the emails\n",
    "Once the implementation of `send_customized_email_to_record()` is finished, it can be called on all the rows of the spreadsheet."
   ]
  },
  {
   "cell_type": "code",
   "execution_count": 11,
   "metadata": {},
   "outputs": [
    {
     "data": {
      "text/plain": [
       "True"
      ]
     },
     "execution_count": 11,
     "metadata": {},
     "output_type": "execute_result"
    }
   ],
   "source": [
    "# send to test record (or send a single email)\n",
    "send_customized_email_to_record(test_record)"
   ]
  },
  {
   "cell_type": "code",
   "execution_count": 12,
   "metadata": {},
   "outputs": [
    {
     "name": "stderr",
     "output_type": "stream",
     "text": [
      "100%|██████████| 20/20 [00:01<00:00, 12.31it/s]"
     ]
    },
    {
     "name": "stdout",
     "output_type": "stream",
     "text": [
      "20 total records; 0 failed to send\n"
     ]
    },
    {
     "name": "stderr",
     "output_type": "stream",
     "text": [
      "\n"
     ]
    }
   ],
   "source": [
    "# send to all (using TQDM as progress bar)\n",
    "failed_records = []\n",
    "for record in tqdm.tqdm(records):\n",
    "    if not send_customized_email_to_record(record):\n",
    "        failed_records.append(record)\n",
    "\n",
    "print(\"{} total records; {} failed to send\".format(\n",
    "    len(records),\n",
    "    len(failed_records)\n",
    "))"
   ]
  }
 ],
 "metadata": {
  "kernelspec": {
   "display_name": "google-spreadsheet-mail-merge-K_FjgGp6",
   "language": "python",
   "name": "python3"
  },
  "language_info": {
   "codemirror_mode": {
    "name": "ipython",
    "version": 3
   },
   "file_extension": ".py",
   "mimetype": "text/x-python",
   "name": "python",
   "nbconvert_exporter": "python",
   "pygments_lexer": "ipython3",
   "version": "3.10.5"
  },
  "orig_nbformat": 4,
  "vscode": {
   "interpreter": {
    "hash": "5b8a6065fe61c5b430e31edd76413c8c75b4f3ea31b20cd51af04d1efe163ad8"
   }
  }
 },
 "nbformat": 4,
 "nbformat_minor": 2
}
