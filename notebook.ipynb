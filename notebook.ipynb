{
 "cells": [
  {
   "cell_type": "code",
   "execution_count": 19,
   "metadata": {},
   "outputs": [],
   "source": [
    "SSHEET_KEY = \"11aR5WHloNn4N3Ns960reTCbxB_QUHeOU7RSqJzUyRbY\"\n",
    "SSHEET_WORKSHEET_ID = 1"
   ]
  },
  {
   "cell_type": "code",
   "execution_count": 20,
   "metadata": {},
   "outputs": [
    {
     "name": "stdout",
     "output_type": "stream",
     "text": [
      "Sheet title: Main List of platforms from Gleidson/Media Cloud/iOS+Android Apps\n",
      "Worksheets:\n",
      "0 Main\n",
      "1 email_list_final\n",
      "2 email_list\n",
      "3 missing_ones_Owen\n",
      "4 dictionary completed_restaurant_extraction\n",
      "5 temp\n",
      "6 Final\n",
      "7 descriptive_statistics_scraping\n"
     ]
    }
   ],
   "source": [
    "import gspread\n",
    "\n",
    "# creating client using our API key (requires either local file,\n",
    "# or GitHub secret configuration)\n",
    "\n",
    "gc = gspread.service_account(filename=\"service_account.json\")\n",
    "\n",
    "# retrieving spreadsheet\n",
    "\n",
    "ssheet = gc.open_by_key(SSHEET_KEY)\n",
    "if ssheet is None:\n",
    "    raise Exception(\"Spreadsheet not found\")\n",
    "\n",
    "# printing spreadsheet info\n",
    "\n",
    "print(\"Sheet title:\", ssheet.title)\n",
    "print(\"Worksheets:\")\n",
    "for i, wks in enumerate(ssheet.worksheets()):\n",
    "    print(i, wks.title)\n",
    "\n",
    "# retrieving worksheet\n",
    "\n",
    "ws = ssheet.get_worksheet(SSHEET_WORKSHEET_ID)"
   ]
  },
  {
   "cell_type": "code",
   "execution_count": 26,
   "metadata": {},
   "outputs": [],
   "source": [
    "# get all rows\n",
    "rows = ws.get_all_values()\n",
    "\n",
    "# separate header\n",
    "header = rows[0]\n",
    "rows = rows[1:]\n",
    "\n",
    "# zip records\n",
    "records = [dict(zip(header, row)) for row in rows]"
   ]
  },
  {
   "cell_type": "code",
   "execution_count": null,
   "metadata": {},
   "outputs": [],
   "source": []
  }
 ],
 "metadata": {
  "kernelspec": {
   "display_name": "google-spreadsheet-mail-merge",
   "language": "python",
   "name": "python3"
  },
  "language_info": {
   "codemirror_mode": {
    "name": "ipython",
    "version": 3
   },
   "file_extension": ".py",
   "mimetype": "text/x-python",
   "name": "python",
   "nbconvert_exporter": "python",
   "pygments_lexer": "ipython3",
   "version": "3.10.5"
  },
  "orig_nbformat": 4,
  "vscode": {
   "interpreter": {
    "hash": "5b8a6065fe61c5b430e31edd76413c8c75b4f3ea31b20cd51af04d1efe163ad8"
   }
  }
 },
 "nbformat": 4,
 "nbformat_minor": 2
}
