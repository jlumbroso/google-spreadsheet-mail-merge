{
 "cells": [
  {
   "cell_type": "code",
   "execution_count": null,
   "metadata": {},
   "outputs": [],
   "source": []
  }
 ],
 "metadata": {
  "kernelspec": {
   "display_name": "google-spreadsheet-mail-merge-K_FjgGp6",
   "language": "python",
   "name": "python3"
  },
  "language_info": {
   "name": "python",
   "version": "3.10.5 (main, Jul  2 2022, 12:02:23) [Clang 13.1.6 (clang-1316.0.21.2.5)]"
  },
  "orig_nbformat": 4,
  "vscode": {
   "interpreter": {
    "hash": "5b8a6065fe61c5b430e31edd76413c8c75b4f3ea31b20cd51af04d1efe163ad8"
   }
  }
 },
 "nbformat": 4,
 "nbformat_minor": 2
}
